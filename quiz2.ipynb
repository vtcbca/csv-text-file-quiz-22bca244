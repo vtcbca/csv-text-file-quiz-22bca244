{
 "cells": [
  {
   "cell_type": "code",
   "execution_count": 33,
   "id": "74106d25",
   "metadata": {},
   "outputs": [],
   "source": [
    "import csv"
   ]
  },
  {
   "cell_type": "code",
   "execution_count": 60,
   "id": "b7befb3f",
   "metadata": {},
   "outputs": [],
   "source": [
    "rows='''1. My name is kinjal.\n",
    "2. I study in sybca from vtcbcsr collage.\n",
    "3. I am 19 years old.\n",
    "4. My hobby is playing tabletanis\n",
    "5. I living in surat city.'''"
   ]
  },
  {
   "cell_type": "code",
   "execution_count": 78,
   "id": "db062604",
   "metadata": {},
   "outputs": [
    {
     "name": "stdout",
     "output_type": "stream",
     "text": [
      "1. My name is kinjal.\n",
      "2. I study in sybca from vtcbcsr collage.\n",
      "3. I am 19 years old.\n",
      "4. My hobby is playing tabletanis\n",
      "5. I living in surat city.\n"
     ]
    }
   ],
   "source": [
    "with open('intro.txt','w',newline='') as c: \n",
    "    o=csv.writer(c) \n",
    "    o.writerow(rows) \n",
    "    print(rows)"
   ]
  },
  {
   "cell_type": "code",
   "execution_count": 82,
   "id": "9d75fcf0",
   "metadata": {},
   "outputs": [
    {
     "name": "stdout",
     "output_type": "stream",
     "text": [
      "1,., ,M,y, ,n,a,m,e, ,i,s, ,k,i,n,j,a,l,.,\"\n",
      "\n",
      "\",2,., ,I, ,s,t,u,d,y, ,i,n, ,s,y,b,c,a, ,f,r,o,m, ,v,t,c,b,c,s,r, ,c,o,l,l,a,g,e,.,\"\n",
      "\n",
      "\",3,., ,I, ,a,m, ,1,9, ,y,e,a,r,s, ,o,l,d,.,\"\n",
      "\n",
      "\",4,., ,M,y, ,h,o,b,b,y, ,i,s, ,p,l,a,y,i,n,g, ,t,a,b,l,e,t,a,n,i,s,\"\n",
      "\n",
      "\",5,., ,I, ,l,i,v,i,n,g, ,i,n, ,s,u,r,a,t, ,c,i,t,y,.\r\n",
      "\n"
     ]
    }
   ],
   "source": [
    "from csv import reader\n",
    "with open('intro.txt','r',newline='',encoding=\"utf8\") as d:\n",
    "    reading=reader(d) \n",
    "    for i in d:\n",
    "             print(i)\n",
    "             \n",
    "        \n",
    "    "
   ]
  },
  {
   "cell_type": "code",
   "execution_count": null,
   "id": "2ee984e8",
   "metadata": {},
   "outputs": [],
   "source": []
  },
  {
   "cell_type": "code",
   "execution_count": null,
   "id": "4506e45d",
   "metadata": {},
   "outputs": [],
   "source": []
  }
 ],
 "metadata": {
  "kernelspec": {
   "display_name": "Python 3 (ipykernel)",
   "language": "python",
   "name": "python3"
  },
  "language_info": {
   "codemirror_mode": {
    "name": "ipython",
    "version": 3
   },
   "file_extension": ".py",
   "mimetype": "text/x-python",
   "name": "python",
   "nbconvert_exporter": "python",
   "pygments_lexer": "ipython3",
   "version": "3.11.4"
  }
 },
 "nbformat": 4,
 "nbformat_minor": 5
}
